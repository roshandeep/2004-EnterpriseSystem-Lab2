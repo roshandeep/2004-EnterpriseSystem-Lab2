{
  "nbformat": 4,
  "nbformat_minor": 0,
  "metadata": {
    "colab": {
      "name": "EnterpriseSystem-Lab2.ipynb",
      "provenance": [],
      "collapsed_sections": [],
      "authorship_tag": "ABX9TyNHZP4HH8qXwkomIArG+7sl",
      "include_colab_link": true
    },
    "kernelspec": {
      "name": "python3",
      "display_name": "Python 3"
    }
  },
  "cells": [
    {
      "cell_type": "markdown",
      "metadata": {
        "id": "view-in-github",
        "colab_type": "text"
      },
      "source": [
        "<a href=\"https://colab.research.google.com/github/roshandeep/2004-EnterpriseSystem-Lab2/blob/master/EnterpriseSystem_Lab2.ipynb\" target=\"_parent\"><img src=\"https://colab.research.google.com/assets/colab-badge.svg\" alt=\"Open In Colab\"/></a>"
      ]
    },
    {
      "cell_type": "code",
      "metadata": {
        "colab": {
          "base_uri": "https://localhost:8080/"
        },
        "id": "j0lUHBKV4o9f",
        "outputId": "8fdb62d5-ac69-43e4-df95-9d0e11f84d43"
      },
      "source": [
        "num1 = input('Enter first number: ')\r\n",
        "num2 = input('Enter second number: ')\r\n",
        "\r\n",
        "sum = float(num1) + float(num2)\r\n",
        "diff = float(num1) - float(num2)\r\n",
        "product = float(num1) * float(num2)\r\n",
        "div = float(num1) / float(num2)\r\n",
        " \r\n",
        "print('The sum of {0} and {1} is {2}'.format(num1, num2, sum))\r\n",
        "print('The difference of {0} and {1} is {2}'.format(num1, num2, diff))\r\n",
        "print('The product of {0} and {1} is {2}'.format(num1, num2, product))\r\n",
        "print('The Quotient of {0} and {1} is {2}'.format(num1, num2, div))"
      ],
      "execution_count": null,
      "outputs": [
        {
          "output_type": "stream",
          "text": [
            "Enter first number: 15\n",
            "Enter second number: 5\n",
            "The sum of 15 and 5 is 20.0\n",
            "The difference of 15 and 5 is 10.0\n",
            "The product of 15 and 5 is 75.0\n",
            "The Quotient of 15 and 5 is 3.0\n"
          ],
          "name": "stdout"
        }
      ]
    },
    {
      "cell_type": "code",
      "metadata": {
        "id": "Tkl0IpYp46rC"
      },
      "source": [
        ""
      ],
      "execution_count": null,
      "outputs": []
    }
  ]
}